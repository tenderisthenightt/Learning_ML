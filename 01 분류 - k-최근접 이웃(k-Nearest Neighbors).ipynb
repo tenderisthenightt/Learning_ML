{
 "cells": [
  {
   "cell_type": "markdown",
   "id": "d51135aa",
   "metadata": {},
   "source": [
    "## k-최근접 이웃 알고리즘\n",
    "- 지도학습 알고리즘 중 하나이다\n",
    "- 굉장히 직관적이고 간단한 알고리즘이다\n",
    "- 어떤 데이터가 주어지면 그 주변(이웃)의 데이터를 살펴본 뒤 많은 데이터가 포함되어 있는 범주로 분류하는 방식이다\n",
    "- knn의 특징은 훈련이 따로 필요없다는 것이다. 다른 모델들은 fit(X_train, y_train)의 코드를 통해 훈련을 시킨다. 즉, 훈련데이터를 기반으로 모델을 만들고 테스트 데이터로 테스트하는 방식이지만 knn은 훈련데이터를 저장하는게 훈련의 전부이다\n",
    "- 모델을 별도로 구축하지 않는다는 뜻으로 게으른 모델(Lazy model)이라고 부른다"
   ]
  },
  {
   "cell_type": "markdown",
   "id": "7cdd2b91",
   "metadata": {},
   "source": [
    "## 필요한 패키지 로딩"
   ]
  },
  {
   "cell_type": "code",
   "execution_count": 38,
   "id": "0e9420dc",
   "metadata": {},
   "outputs": [],
   "source": [
    "import numpy as np\n",
    "import pandas as pd\n",
    "import matplotlib.pyplot as plt\n",
    "%matplotlib inline"
   ]
  },
  {
   "cell_type": "markdown",
   "id": "e1396050",
   "metadata": {},
   "source": [
    "### 데이터셋 로딩"
   ]
  },
  {
   "cell_type": "code",
   "execution_count": 39,
   "id": "701572de",
   "metadata": {},
   "outputs": [],
   "source": [
    "## 도미의 관측 데이터셋 \n",
    "## 도미 길이\n",
    "bream_length = [25.4, 26.3, 26.5, 29.0, 29.0, 29.7, 29.7, 30.0, 30.0, 30.7, 31.0, 31.0, \n",
    "                31.5, 32.0, 32.0, 32.0, 33.0, 33.0, 33.5, 33.5, 34.0, 34.0, 34.5, 35.0, \n",
    "                35.0, 35.0, 35.0, 36.0, 36.0, 37.0, 38.5, 38.5, 39.5, 41.0, 41.0]\n",
    "## 도미 무게\n",
    "bream_weight = [242.0, 290.0, 340.0, 363.0, 430.0, 450.0, 500.0, 390.0, 450.0, 500.0, 475.0, 500.0, \n",
    "                500.0, 340.0, 600.0, 600.0, 700.0, 700.0, 610.0, 650.0, 575.0, 685.0, 620.0, 680.0, \n",
    "                700.0, 725.0, 720.0, 714.0, 850.0, 1000.0, 920.0, 955.0, 925.0, 975.0, 950.0]"
   ]
  },
  {
   "cell_type": "code",
   "execution_count": 40,
   "id": "ab405fdc",
   "metadata": {},
   "outputs": [
    {
     "data": {
      "text/plain": [
       "35"
      ]
     },
     "execution_count": 40,
     "metadata": {},
     "output_type": "execute_result"
    }
   ],
   "source": [
    "len(bream_length)"
   ]
  },
  {
   "cell_type": "code",
   "execution_count": 41,
   "id": "5510511b",
   "metadata": {},
   "outputs": [],
   "source": [
    "# 빙어 관측 데이터셋\n",
    "smelt_length = [9.8, 10.5, 10.6, 11.0, 11.2, 11.3, 11.8, 11.8, 12.0, 12.2, 12.4, 13.0, 14.3, 15.0]\n",
    "smelt_weight = [6.7, 7.5, 7.0, 9.7, 9.8, 8.7, 10.0, 9.9, 9.8, 12.2, 13.4, 12.2, 19.7, 19.9]"
   ]
  },
  {
   "cell_type": "code",
   "execution_count": 42,
   "id": "2152ba64",
   "metadata": {},
   "outputs": [
    {
     "data": {
      "text/plain": [
       "14"
      ]
     },
     "execution_count": 42,
     "metadata": {},
     "output_type": "execute_result"
    }
   ],
   "source": [
    "len(smelt_length)"
   ]
  },
  {
   "cell_type": "code",
   "execution_count": 43,
   "id": "4a5f7705",
   "metadata": {},
   "outputs": [
    {
     "data": {
      "image/png": "[encoded data removed]",
      "text/plain": [
       "<Figure size 432x288 with 1 Axes>"
      ]
     },
     "metadata": {
      "needs_background": "light"
     },
     "output_type": "display_data"
    }
   ],
   "source": [
    "# feature(특성, 속성)간의 관계를 시각화하는 scatter plot(산점도 or 산포도)\n",
    "# 연관성을 볼때 시각화를 쓰면 한눈에 보임\n",
    "# 길이를 x, 무게를 y\n",
    "plt.scatter(bream_length, bream_weight)\n",
    "plt.xlabel('length')\n",
    "plt.ylabel('weight')\n",
    "plt.show()\n",
    "# 양의 상관관계를 보임\n",
    "# 관측값들이 직선을 보임 - 선형적\n",
    "# 도미는 길이와 무게가 상관관계가 있다"
   ]
  },
  {
   "cell_type": "code",
   "execution_count": 44,
   "id": "6f1ed72a",
   "metadata": {},
   "outputs": [
    {
     "data": {
      "image/png": "[encoded data removed]",
      "text/plain": [
       "<Figure size 432x288 with 1 Axes>"
      ]
     },
     "metadata": {
      "needs_background": "light"
     },
     "output_type": "display_data"
    }
   ],
   "source": [
    "# 빙어 산점도 그래프 시각화\n",
    "plt.scatter(smelt_length, smelt_weight)\n",
    "plt.xlabel('length')\n",
    "plt.ylabel('weight')\n",
    "plt.show()\n",
    "# 양의 상관관계가 있는것처럼 보임"
   ]
  },
  {
   "cell_type": "code",
   "execution_count": null,
   "id": "2eb246db",
   "metadata": {},
   "outputs": [],
   "source": [
    "plt.scatter(bream_length, bream_weight)\n",
    "plt.scatter(smelt_length, smelt_weight)\n",
    "plt.xlabel('length')\n",
    "plt.ylabel('weight')\n",
    "plt.show()\n",
    "# 두 데이터셋을 한번에 시각화\n",
    "# 원본 데이터대로 나타난다\n",
    "# 정답에 해당되는 라벨이 하나 더 있어야 한다\n",
    "# 컴퓨터가 처리할수있는 언어 0과 1로 나타내줘야함\n",
    "# 우리가 찾아낼 도미를 1로, 빙어를 0로 타겟값을 줘야함 \n",
    "# feature가 두개 길이와 무게\n",
    "# 도미와 빙어의 무게와 길이를 합쳐서 각각 feature 하나로 만듦\n",
    "# target"
   ]
  },
  {
   "cell_type": "code",
   "execution_count": null,
   "id": "31da9c53",
   "metadata": {},
   "outputs": [],
   "source": [
    "# 머신러닝 패키지를 사용할 경우 특성들을 2차원 Numpy 배열로 만들어줘야 한다\n",
    "length = bream_length + smelt_length\n",
    "weight = bream_weight + smelt_weight"
   ]
  },
  {
   "cell_type": "code",
   "execution_count": null,
   "id": "25aad376",
   "metadata": {},
   "outputs": [],
   "source": [
    "# 2차원 배열을 생성하기 위해 zip()함수와 리스트내포를 사용한다\n",
    "# zip() : 나열된 리스트에서 요소를 하나씩 꺼내주는 역할을 하는 함수\n",
    "# == map()과 유사한 기능\n",
    "fish_data = [[l, w] for l, w in zip(length, weight)]\n",
    "fish_data"
   ]
  },
  {
   "cell_type": "code",
   "execution_count": null,
   "id": "2d63ca13",
   "metadata": {},
   "outputs": [],
   "source": [
    "# 도미(1), 빙어(0)\n",
    "# 머신에서 찾고자 하는 것에 1을 나머지는 0으로 둔다\n",
    "# 도미 데이터셋은 35개, 빙어 데이터셋은 14개\n",
    "fish_target = [1] * 35 + [0] * 14\n",
    "fish_target"
   ]
  },
  {
   "cell_type": "markdown",
   "id": "cfe7c135",
   "metadata": {},
   "source": [
    "### knn 알고리즘 : 2진 분류 알고리즘"
   ]
  },
  {
   "cell_type": "code",
   "execution_count": 9,
   "id": "81346be1",
   "metadata": {},
   "outputs": [
    {
     "ename": "NameError",
     "evalue": "name 'fish_data' is not defined",
     "output_type": "error",
     "traceback": [
      "\u001b[1;31m---------------------------------------------------------------------------\u001b[0m",
      "\u001b[1;31mNameError\u001b[0m                                 Traceback (most recent call last)",
      "\u001b[1;32m~\\AppData\\Local\\Temp/ipykernel_22580/795020566.py\u001b[0m in \u001b[0;36m<module>\u001b[1;34m\u001b[0m\n\u001b[0;32m      7\u001b[0m \u001b[0mknn\u001b[0m \u001b[1;33m=\u001b[0m \u001b[0mKNeighborsClassifier\u001b[0m\u001b[1;33m(\u001b[0m\u001b[1;33m)\u001b[0m\u001b[1;33m\u001b[0m\u001b[1;33m\u001b[0m\u001b[0m\n\u001b[0;32m      8\u001b[0m \u001b[1;31m# 훈련 - 모델에 데이터를 전달하여 규칙을 학습하는 과정을 말한다\u001b[0m\u001b[1;33m\u001b[0m\u001b[1;33m\u001b[0m\u001b[0m\n\u001b[1;32m----> 9\u001b[1;33m \u001b[0mmodel\u001b[0m \u001b[1;33m=\u001b[0m \u001b[0mknn\u001b[0m\u001b[1;33m.\u001b[0m\u001b[0mfit\u001b[0m\u001b[1;33m(\u001b[0m\u001b[0mfish_data\u001b[0m\u001b[1;33m,\u001b[0m \u001b[0mfish_target\u001b[0m\u001b[1;33m)\u001b[0m\u001b[1;33m\u001b[0m\u001b[1;33m\u001b[0m\u001b[0m\n\u001b[0m\u001b[0;32m     10\u001b[0m \u001b[1;33m\u001b[0m\u001b[0m\n\u001b[0;32m     11\u001b[0m \u001b[1;31m# 평가(정확도 검사)\u001b[0m\u001b[1;33m\u001b[0m\u001b[1;33m\u001b[0m\u001b[0m\n",
      "\u001b[1;31mNameError\u001b[0m: name 'fish_data' is not defined"
     ]
    }
   ],
   "source": [
    "from sklearn.neighbors import KNeighborsClassifier\n",
    "# 첫글자가 대문자 = 클래스\n",
    "# 클래스에 접근하려면 인스턴스 객체를 먼저 생성해야함\n",
    "# 싸이킷run 사이트에가면 이 클래스의 기본 파라미터를 볼 수 있음\n",
    "# 기본값을 그냥 사용하려고 함\n",
    "\n",
    "knn = KNeighborsClassifier()\n",
    "# 훈련 - 모델에 데이터를 전달하여 규칙을 학습하는 과정을 말한다\n",
    "model = knn.fit(fish_data, fish_target)\n",
    "\n",
    "# 평가(정확도 검사)\n",
    "model.score(fish_data, fish_target)\n",
    "# 1.0 나옴 ..  정확도 100%라는 소리\n",
    "# 학습시킨거 안에서 나온 문제라 정확도 100인게 중요하지 않음\n",
    "# 훈련용 데이터와 테스트 데이터를 분리해야 정확하게 볼 수 있음"
   ]
  },
  {
   "cell_type": "code",
   "execution_count": null,
   "id": "b770975e",
   "metadata": {},
   "outputs": [],
   "source": [
    "# import한 KNeighborsClassifier 클래스의 객체를 먼저 만든다.\n",
    "knn = KNeighborsClassifier()\n",
    "\n",
    "# 이 객체에 fish_data와 fish_target을 전달하여 도미를 찾기 위한 기준을 학습시키는 것을 훈련이라고 한다.\n",
    "# 사이킷런에서는 fit()메소드가 이런 역할을 한다.\n",
    "# 가까이에 있는 것을 어떻게 알까? distance라는 거리를 통해 알 수 있다.\n",
    "# knn에서는 두가지 기법이 있다.\n",
    "\n",
    "# 이제 훈련을 시킬 것이다. - 모델 데이터를 전달하여 규칙을 학습하는 과정을 말한다.\n",
    "model = knn.fit(fish_data, fish_target)\n",
    "#fish_data문제, fish_target문제에 대한 정답\n",
    "#fit() 주어진 데이터로 알고리즘을 훈련시킨 뒤 훈련한다.\n",
    "\n",
    "# 평가(정확도 검사)\n",
    "model.score(fish_data, fish_target)\n",
    "\n",
    "#결과값이 1은 정확도가 100%라는 것이다.\n",
    "#knn은 데이터를 갖고 있는데 그것으로 모델을 만들고 평가하면 100%밖에 나올 수 없다.\n",
    "# 100"
   ]
  },
  {
   "cell_type": "code",
   "execution_count": null,
   "id": "d65372d2",
   "metadata": {},
   "outputs": [],
   "source": [
    "# knn 학습모델\n",
    "knn.fit(fish_data, fish_target)"
   ]
  },
  {
   "cell_type": "code",
   "execution_count": null,
   "id": "6457cc47",
   "metadata": {},
   "outputs": [],
   "source": [
    "KNeighborsClassifier(algorithm='auto', leaf_size=30, metric='minkowski',\n",
    "                     metric_params=None, n_jobs=None, n_neighbors=5, p=2,\n",
    "                     weights='uniform')\n",
    "\n",
    "# algorithm = auto : 최적화\n",
    "# leaf_size : 메모리 점유율\n",
    "# metric='minkows : 유클리안 --을 사용햇다\n",
    "# p=2 : 1이면 맨하탄거리 계산법 2이면 유클리안 거리 계산법\n",
    "# KN의 핵심은 가장 적절한 k를 찾아내는 것\n",
    "# weights='uniform' : 하이퍼파라미터(가중치)를 균등하게 부여 \n",
    "#                   : distance : 거리에 따른 가중치를 차등 부여\n",
    "#                   : 강력하게 알고리즘을 사용햇다는 뜻\n",
    "# k 값을 적게잡으면 비교할 대상이 딱히 없음. 과대적합이 일어남\n",
    "# 산발된 데이터셋을 일일히 이어서 모델을 만들면\n",
    "# 새로운 데이터가 들어왓을때 적합하지 않고 일반화가 이루지지 않음\n",
    "# 그래서 최적화된 직선을 긋는것.."
   ]
  },
  {
   "cell_type": "code",
   "execution_count": null,
   "id": "bab0cb70",
   "metadata": {},
   "outputs": [],
   "source": [
    "# 예측 - 새로운 데이터를 추가하여 분류하는 작업\n",
    "# 길이 - 30, 무게 600인 데이터\n",
    "knn.predict([[30, 600]])\n",
    "# 얘는 아마 도미 '1'로 나올것"
   ]
  },
  {
   "cell_type": "code",
   "execution_count": null,
   "id": "8656c3f8",
   "metadata": {},
   "outputs": [],
   "source": [
    "new_data = [30, 600]"
   ]
  },
  {
   "cell_type": "code",
   "execution_count": null,
   "id": "726ad459",
   "metadata": {},
   "outputs": [],
   "source": [
    "plt.scatter(bream_length, bream_weight)\n",
    "plt.scatter(smelt_length, smelt_weight)\n",
    "plt.scatter(30, 600, marker = '^', color = 'r')\n",
    "plt.plot()\n",
    "plt.xlabel('length')\n",
    "plt.ylabel('weight')\n",
    "plt.show()\n",
    "# 기존의 산점도 그래프에 띄워봄"
   ]
  },
  {
   "cell_type": "code",
   "execution_count": null,
   "id": "2bd55520",
   "metadata": {},
   "outputs": [],
   "source": [
    "model._fit_X\n",
    "# X : 이 모델을 만들때 사용햇던 데이터 셋 (fish)"
   ]
  },
  {
   "cell_type": "code",
   "execution_count": null,
   "id": "95e5ef4d",
   "metadata": {},
   "outputs": [],
   "source": [
    "knn._fit_X\n",
    "# knn도 fish 데이터를 다 갖고있음\n",
    "# 메모리를 많이 차지하고 있음"
   ]
  },
  {
   "cell_type": "code",
   "execution_count": null,
   "id": "4ba093f3",
   "metadata": {},
   "outputs": [],
   "source": [
    "model._y\n",
    "# 우리가 갖고 있는 49개의 target 데이터"
   ]
  },
  {
   "cell_type": "code",
   "execution_count": null,
   "id": "9871e437",
   "metadata": {},
   "outputs": [],
   "source": [
    "knn._y\n",
    "# 물론 얘도"
   ]
  },
  {
   "cell_type": "code",
   "execution_count": null,
   "id": "88fb4f53",
   "metadata": {},
   "outputs": [],
   "source": [
    "kn49 = KNeighborsClassifier(n_neighbors=49)\n",
    "# 이렇게 집어넣으면 데이터가 많은 도미를 인식해서 도미라고 분류해버림\n",
    "kn49.fit(fish_data, fish_target)\n",
    "kn49.score(fish_data, fish_target)\n",
    "# 정확도 100 아닐거임\n",
    "# 1에서 100정도까지 이 과정을 반복하면 최적의 k값을 얻을 수 있음"
   ]
  },
  {
   "cell_type": "code",
   "execution_count": null,
   "id": "1f27803f",
   "metadata": {},
   "outputs": [],
   "source": [
    "35 / 49\n",
    "# 갖고있는 총 데이터중에 도미데이터 갯수.. 정확도가 이렇게 나온거"
   ]
  },
  {
   "cell_type": "markdown",
   "id": "7193c6dc",
   "metadata": {},
   "source": [
    "## 훈련 데이터와 테스트 데이터"
   ]
  },
  {
   "cell_type": "code",
   "execution_count": null,
   "id": "74dea900",
   "metadata": {},
   "outputs": [],
   "source": [
    "print(type(fish_data))\n",
    "print(type(fish_target))\n",
    "# 리스트는 슬라이싱으로 분리 가능\n",
    "# 인덱스 시작은 0"
   ]
  },
  {
   "cell_type": "code",
   "execution_count": null,
   "id": "389f41e0",
   "metadata": {},
   "outputs": [],
   "source": [
    "# 훈련데이터 35개, 테스트데이터 14개로 분리하는 작업\n",
    "train_input = fish_data[:35]\n",
    "train_target = fish_target[:35]\n",
    "test_input = fish_data[35:]\n",
    "test_target = fish_target[35:]"
   ]
  },
  {
   "cell_type": "code",
   "execution_count": null,
   "id": "90636f31",
   "metadata": {},
   "outputs": [],
   "source": [
    "kn = KNeighborsClassifier()\n",
    "kn.fit(train_input, train_target)\n",
    "kn.score(test_input, test_target)\n",
    "# 샘플의 편향 때문에 0%가 나옴\n",
    "# 모델학교가서 대한민국 평균키 샘플 추출한거나 다름없음\n",
    "# 이렇게 훈련데이터 테스트데이터를 나누면 안된다"
   ]
  },
  {
   "cell_type": "code",
   "execution_count": null,
   "id": "cf0803b0",
   "metadata": {},
   "outputs": [],
   "source": [
    "# numpy 배열을 이용하여 데이터를 섞는 작업\n",
    "input_arr = np.array(fish_data)\n",
    "target_arr = np.array(fish_target)"
   ]
  },
  {
   "cell_type": "code",
   "execution_count": null,
   "id": "2d01b842",
   "metadata": {},
   "outputs": [],
   "source": [
    "input_arr"
   ]
  },
  {
   "cell_type": "code",
   "execution_count": null,
   "id": "46cf5799",
   "metadata": {},
   "outputs": [],
   "source": [
    "input_arr.shape\n",
    "# 2개의 관측값을 가짐"
   ]
  },
  {
   "cell_type": "code",
   "execution_count": null,
   "id": "c70046a1",
   "metadata": {},
   "outputs": [],
   "source": [
    "target_arr.shape\n",
    "# 크기 49개"
   ]
  },
  {
   "cell_type": "code",
   "execution_count": null,
   "id": "75d2f37f",
   "metadata": {},
   "outputs": [],
   "source": [
    "# 넘파이 배열은 0부터 인덱스 시작\n",
    "# 인덱스를 섞을것\n",
    "# input_arr과 target_arr은 같은 위치에 함계 선택되어야 함\n",
    "np.random.seed(42)\n",
    "index = np.arange(49)\n",
    "# 마지막 값인 49를 주면 모든 데이터\n",
    "# shuffle() 무작위로 섞음\n",
    "np.random.shuffle(index)"
   ]
  },
  {
   "cell_type": "code",
   "execution_count": null,
   "id": "006aec7f",
   "metadata": {},
   "outputs": [],
   "source": [
    "index\n",
    "# 섞인거 확인"
   ]
  },
  {
   "cell_type": "code",
   "execution_count": null,
   "id": "02ee1162",
   "metadata": {},
   "outputs": [],
   "source": [
    "train_input = input_arr[index[:35]]\n",
    "train_target = target_arr[index[:35]]\n",
    "test_input = input_arr[index[35:]]\n",
    "test_target = target_arr[index[35:]]"
   ]
  },
  {
   "cell_type": "code",
   "execution_count": null,
   "id": "3e0577ad",
   "metadata": {},
   "outputs": [],
   "source": [
    "print(input_arr[13], train_input[0])\n",
    "# input_arr의 13번째는 train_input의 0번째가 됏는지 확인해보기"
   ]
  },
  {
   "cell_type": "code",
   "execution_count": null,
   "id": "d96bf257",
   "metadata": {},
   "outputs": [],
   "source": [
    "plt.scatter(train_input[:, 0], train_input[:, 1])\n",
    "plt.scatter(test_input[:, 0], test_input[:, 1])\n",
    "# x축 y축으로 담으려고 분리해서 쓰는거\n",
    "plt.xlabel('length')\n",
    "plt.ylabel('weight')\n",
    "plt.show()"
   ]
  },
  {
   "cell_type": "code",
   "execution_count": null,
   "id": "94ef646f",
   "metadata": {},
   "outputs": [],
   "source": [
    "kn = KNeighborsClassifier()\n",
    "kn.fit(train_input, train_target)\n",
    "kn.score(test_input, test_target)"
   ]
  },
  {
   "cell_type": "markdown",
   "id": "c2ff9107",
   "metadata": {},
   "source": [
    "## 데이터 전처리(data preprocessing)"
   ]
  },
  {
   "cell_type": "code",
   "execution_count": null,
   "id": "647700ae",
   "metadata": {},
   "outputs": [],
   "source": [
    "fish_data[:5]"
   ]
  },
  {
   "cell_type": "code",
   "execution_count": null,
   "id": "790642ad",
   "metadata": {},
   "outputs": [],
   "source": [
    "fish_length = [25.4, 26.3, 26.5, 29.0, 29.0, 29.7, 29.7, 30.0, 30.0, 30.7, 31.0, 31.0, \n",
    "                31.5, 32.0, 32.0, 32.0, 33.0, 33.0, 33.5, 33.5, 34.0, 34.0, 34.5, 35.0, \n",
    "                35.0, 35.0, 35.0, 36.0, 36.0, 37.0, 38.5, 38.5, 39.5, 41.0, 41.0, 9.8, \n",
    "                10.5, 10.6, 11.0, 11.2, 11.3, 11.8, 11.8, 12.0, 12.2, 12.4, 13.0, 14.3, 15.0]\n",
    "fish_weight = [242.0, 290.0, 340.0, 363.0, 430.0, 450.0, 500.0, 390.0, 450.0, 500.0, 475.0, 500.0, \n",
    "                500.0, 340.0, 600.0, 600.0, 700.0, 700.0, 610.0, 650.0, 575.0, 685.0, 620.0, 680.0, \n",
    "                700.0, 725.0, 720.0, 714.0, 850.0, 1000.0, 920.0, 955.0, 925.0, 975.0, 950.0, 6.7, \n",
    "                7.5, 7.0, 9.7, 9.8, 8.7, 10.0, 9.9, 9.8, 12.2, 13.4, 12.2, 19.7, 19.9]"
   ]
  },
  {
   "cell_type": "code",
   "execution_count": null,
   "id": "c14d6a47",
   "metadata": {},
   "outputs": [],
   "source": [
    "# column_stack()\n",
    "np.column_stack([[1, 2, 3], [4, 5, 6]])\n",
    "# 데이터가 두개라 리스트나 튜플로 또 묶어줘야 됨\n",
    "# 이제 넘파이 배열이 돼서 머신에 돌릴 수 잇음 데이터준비끝"
   ]
  },
  {
   "cell_type": "code",
   "execution_count": null,
   "id": "4d3e82cb",
   "metadata": {},
   "outputs": [],
   "source": [
    "fish_data = np.column_stack([fish_length, fish_weight])\n",
    "fish_data[:5]\n",
    "# 2차원 배열의 형태를 갖고잇음"
   ]
  },
  {
   "cell_type": "code",
   "execution_count": null,
   "id": "db0db7d3",
   "metadata": {},
   "outputs": [],
   "source": [
    "# np.zeros(), np.ones() 각각 0와 1을 만들어주는 함수\n",
    "fish_target = np.concatenate([np.ones(35), np.zeros(14)])\n",
    "# 리스트와 튜플 뭐든 상관없음\n",
    "fish_target\n",
    "# 찍어보면 넘파이 배열이 돼서 머신에 돌릴 수 잇음 데이터준비끝"
   ]
  },
  {
   "cell_type": "markdown",
   "id": "2edb4964",
   "metadata": {},
   "source": [
    "### 훈련 데이터와 테스트 데이터 분리"
   ]
  },
  {
   "cell_type": "code",
   "execution_count": 10,
   "id": "a7d39135",
   "metadata": {},
   "outputs": [
    {
     "ename": "NameError",
     "evalue": "name 'fish_data' is not defined",
     "output_type": "error",
     "traceback": [
      "\u001b[1;31m---------------------------------------------------------------------------\u001b[0m",
      "\u001b[1;31mNameError\u001b[0m                                 Traceback (most recent call last)",
      "\u001b[1;32m~\\AppData\\Local\\Temp/ipykernel_22580/587856601.py\u001b[0m in \u001b[0;36m<module>\u001b[1;34m\u001b[0m\n\u001b[0;32m      2\u001b[0m \u001b[1;33m\u001b[0m\u001b[0m\n\u001b[0;32m      3\u001b[0m train_input, teat_input, train_target, test_target = train_test_split(\\\n\u001b[1;32m----> 4\u001b[1;33m                                                                      fish_data, fish_target, random_state=42)\n\u001b[0m",
      "\u001b[1;31mNameError\u001b[0m: name 'fish_data' is not defined"
     ]
    }
   ],
   "source": [
    "from sklearn.model_selection import train_test_split\n",
    "\n",
    "train_input, teat_input, train_target, test_target = train_test_split(\\\n",
    "                                                                     fish_data, fish_target, random_state=42)"
   ]
  },
  {
   "cell_type": "code",
   "execution_count": null,
   "id": "539c97a6",
   "metadata": {},
   "outputs": [],
   "source": [
    "print(train_input.shape, test_input.shape)\n",
    "# 36개와 13개로 분리됨\n",
    "# 이 함수는 기본적으로 25% 정도를 테스트 세트로 떼어낸다.\n",
    "# 반올림/반내림은 알아서 최적화된 값으로 반환해준다"
   ]
  },
  {
   "cell_type": "code",
   "execution_count": null,
   "id": "0ccc7308",
   "metadata": {},
   "outputs": [],
   "source": [
    "test_target\n",
    "# 찍어보니 아무래도 도미 데이터가 너무 많고 전체 데이터가 적어서 도미에 편향되긴 함\n"
   ]
  },
  {
   "cell_type": "code",
   "execution_count": null,
   "id": "887eeec5",
   "metadata": {},
   "outputs": [],
   "source": [
    "# stratify : 클래스 비율에 맞춰서 데이터를 분리하도록 조정하는 옵션\n",
    "# 훈련데이터가 적거나 특정 클래스의 샘플 개수가 적을 때 유용하게 사용된다.\n",
    "train_input, test_input, train_target, test_target = train_test_split(\\\n",
    "                                                                      fish_data, fish_target,stratify=fish_target, random_state=42)\n",
    "\n",
    "# 훈련데이터가 작거나 편중되어 있을 때 class비율에 맞춰서~ strarity= fish_target\n",
    "test_target                                                                                   "
   ]
  },
  {
   "cell_type": "code",
   "execution_count": null,
   "id": "742adff6",
   "metadata": {},
   "outputs": [],
   "source": [
    "kn = KNeighborsClassifier()\n",
    "kn.fit(train_input, train_target)\n",
    "# 학습은 트레이닝 데이터로 함\n",
    "# fit : 인스턴스 객체 만든 다음에 학습 시키는 것 \n",
    "# 평가는 테스트 데이터로 함\n",
    "kn.score(test_input, test_target)"
   ]
  },
  {
   "cell_type": "code",
   "execution_count": null,
   "id": "50c9d274",
   "metadata": {},
   "outputs": [],
   "source": [
    "plt.scatter(train_input[:, 0], train_input[:, 1])\n",
    "plt.xlabel('length')\n",
    "plt.ylabel('weight')\n",
    "plt.show()"
   ]
  },
  {
   "cell_type": "code",
   "execution_count": null,
   "id": "a9df2ce1",
   "metadata": {},
   "outputs": [],
   "source": [
    "kn.predict([[25, 150]])\n",
    "# 우리는 도미로 분류할거라 생각햇는데 얘는 빙어로 분류함"
   ]
  },
  {
   "cell_type": "code",
   "execution_count": null,
   "id": "a4e08e44",
   "metadata": {},
   "outputs": [],
   "source": [
    "# 왜 그런지 시각화에 같이 띄워보자\n",
    "plt.scatter(train_input[:, 0], train_input[:, 1])\n",
    "plt.scatter(25, 150, marker='^')\n",
    "plt.xlabel('length')\n",
    "plt.ylabel('weight')\n",
    "plt.show()"
   ]
  },
  {
   "cell_type": "code",
   "execution_count": null,
   "id": "e666fbcc",
   "metadata": {},
   "outputs": [],
   "source": [
    "# kneighbors() : 이웃까지의 거리와 이웃의 샘플의 인덱스를 반환하는 함수\n",
    "distances, indexes = kn.kneighbors([[25, 150]])"
   ]
  },
  {
   "cell_type": "code",
   "execution_count": null,
   "id": "33f4620a",
   "metadata": {},
   "outputs": [],
   "source": [
    "plt.scatter(train_input[:, 0], train_input[:, 1])\n",
    "plt.scatter(25, 150, marker='^')\n",
    "plt.scatter(train_input[indexes, 0], train_input[indexes, 1], marker='D')\n",
    "plt.xlabel('length')\n",
    "plt.ylabel('weight')\n",
    "plt.show()"
   ]
  },
  {
   "cell_type": "code",
   "execution_count": null,
   "id": "35ac778e",
   "metadata": {},
   "outputs": [],
   "source": [
    "# 거리도 뽑아봐야 알것같음\n",
    "train_input[indexs]"
   ]
  },
  {
   "cell_type": "code",
   "execution_count": null,
   "id": "c9b66801",
   "metadata": {},
   "outputs": [],
   "source": [
    "# 타겟 데이터로 보자\n",
    "train_target[indexs]\n",
    "# 주변에 빙어가 4개라고 나오네\n",
    "# 근데 산점도를 눈으로 봣을때는 빙어가 특별히 가까워보이지 않는데\n",
    "# 길이가 달라서 산점도상에 표현이 잘 안된것같다는 의심"
   ]
  },
  {
   "cell_type": "code",
   "execution_count": null,
   "id": "18255205",
   "metadata": {},
   "outputs": [],
   "source": [
    "distances"
   ]
  },
  {
   "cell_type": "code",
   "execution_count": null,
   "id": "ce020b2f",
   "metadata": {},
   "outputs": [],
   "source": [
    "plt.scatter(train_input[:,0], train_input[:,1])\n",
    "plt.scatter(25, 150, marker = '^')\n",
    "plt.scatter(train_input[indexes, 0], train_input[indexes,1], marker='D')\n",
    "plt.xlabel('length')\n",
    "plt.ylabel('weight')\n",
    "plt.xlim((0, 1000)) \n",
    "# Y축과 단위차이가 많이 나서 한번 맞춰봄\n",
    "plt.show()"
   ]
  },
  {
   "cell_type": "markdown",
   "id": "32f16f12",
   "metadata": {},
   "source": [
    "### 피처 스케일링\n",
    "- 두 특성의 스케일(scale)이 다를 때, 데이터를 표현하는 기준이 다르면 알고리즘이 올바르게 예측할 수 없다\n",
    "- 최소 - 최대 정규화(min-max normalization) : X<sub>new</sub> = X-min(x) / max(x) - min(x)\n",
    "- z-점수 표준화(z-value standadization) : X<sub>new</sub> = X-mean(x) / std(x)"
   ]
  },
  {
   "cell_type": "code",
   "execution_count": null,
   "id": "f0079f6f",
   "metadata": {},
   "outputs": [],
   "source": [
    "mean = np.mean(train_input, axis=0)\n",
    "std = np.std(train_input, axis=0)"
   ]
  },
  {
   "cell_type": "code",
   "execution_count": null,
   "id": "a35cdf89",
   "metadata": {},
   "outputs": [],
   "source": [
    "train_scaled = (train_input - mean) / std\n",
    "# 스케일링"
   ]
  },
  {
   "cell_type": "code",
   "execution_count": null,
   "id": "e6c57357",
   "metadata": {},
   "outputs": [],
   "source": [
    "new = ([25, 150] - mean) / std\n",
    "# 이것도 스케일링\n",
    "plt.scatter(train_scaled[:,0], train_scaled[:, 1])\n",
    "plt.scatter(new[0], new[1], marker = '^')\n",
    "plt.xlabel('length')\n",
    "plt.ylabel('weight')\n",
    "plt.show()\n",
    "# 그림은 똑같은데 축값이 달라짐"
   ]
  },
  {
   "cell_type": "code",
   "execution_count": null,
   "id": "3f1e3e99",
   "metadata": {},
   "outputs": [],
   "source": [
    "test_scaled = (test_input - mean) / std\n",
    "# 테스트 데이터도 스케일링"
   ]
  },
  {
   "cell_type": "code",
   "execution_count": null,
   "id": "a7f2557b",
   "metadata": {},
   "outputs": [],
   "source": [
    "kn.fit(train_scaled, train_target)"
   ]
  },
  {
   "cell_type": "code",
   "execution_count": null,
   "id": "397a0483",
   "metadata": {},
   "outputs": [],
   "source": [
    "kn.score(test_scaled, test_target)"
   ]
  },
  {
   "cell_type": "code",
   "execution_count": null,
   "id": "6cffed11",
   "metadata": {},
   "outputs": [],
   "source": [
    "kn.predict([new])\n",
    "# 이제 제대로 나옴"
   ]
  },
  {
   "cell_type": "code",
   "execution_count": null,
   "id": "5d3a4b1f",
   "metadata": {},
   "outputs": [],
   "source": [
    "# 여기까지 한 내용들을 이해할 수 있어야 앞으로 개고생안한다"
   ]
  },
  {
   "cell_type": "markdown",
   "id": "2ee2ae34",
   "metadata": {},
   "source": [
    "### 훈련 데이터와 테스트 데이터 분리"
   ]
  },
  {
   "cell_type": "code",
   "execution_count": null,
   "id": "61edceda",
   "metadata": {},
   "outputs": [],
   "source": [
    "from sklearn.model_selection import train_test_split"
   ]
  },
  {
   "cell_type": "code",
   "execution_count": null,
   "id": "a953b6e0",
   "metadata": {},
   "outputs": [],
   "source": [
    "distances, indexes = kn.kneighbors([new])\n",
    "plt.scatter(train_scaled[:,0], train_scaled[:,1])\n",
    "plt.scatter(new[0], new[1], marker='^')\n",
    "plt.scatter(train_scaled[indexes, 0], train_scaled[indexes, 1], marker='D')\n",
    "plt.xlabel('length')\n",
    "plt.ylabel('weight')\n",
    "plt.show()"
   ]
  },
  {
   "cell_type": "markdown",
   "id": "16a1788f",
   "metadata": {},
   "source": [
    "## 분꽃(iris) 품종 분류 분석"
   ]
  },
  {
   "cell_type": "markdown",
   "id": "97cd7402",
   "metadata": {},
   "source": [
    "### 데이터셋 로딩"
   ]
  },
  {
   "cell_type": "code",
   "execution_count": null,
   "id": "9b231b69",
   "metadata": {},
   "outputs": [],
   "source": [
    "from sklearn.datasets import load_iris\n",
    "iris = load_iris()"
   ]
  },
  {
   "cell_type": "code",
   "execution_count": null,
   "id": "d2ad6bc3",
   "metadata": {},
   "outputs": [],
   "source": [
    "# Bunch 클래스 객체는 파이썬의 딕셔너리와 비슷하다. 키와 밸류로 이뤄짐\n",
    "iris\n",
    "# 확인해보면 넘파이 2차원 배열이라고 알려줌 {'data':array }"
   ]
  },
  {
   "cell_type": "code",
   "execution_count": null,
   "id": "bf913e06",
   "metadata": {},
   "outputs": [],
   "source": [
    "print('iris의 키 : \\r', iris.keys())\n",
    "# 딕셔너리의 키값만 얻어올때 .keys()\n",
    "# \\r 한칸내리기"
   ]
  },
  {
   "cell_type": "code",
   "execution_count": null,
   "id": "e841d794",
   "metadata": {},
   "outputs": [],
   "source": [
    "print(iris['DESCR'][:193] + \"\\n...\")\n",
    "# 너무 많으니까 193번째까지만 가져오고\n",
    "# 엔터쳐서 보기편하게"
   ]
  },
  {
   "cell_type": "code",
   "execution_count": null,
   "id": "6e84030c",
   "metadata": {},
   "outputs": [],
   "source": [
    "# 데이터프레임으로 변환하여 내용 확인\n",
    "df = pd.DataFrame(iris.data, columns = iris.feature_names)\n",
    "sy = pd.Series(iris.target, dtype = 'category')\n",
    "# 타켓을 갖고와서 시리즈 객체로 만든다음 데이터프레임에 추가하려고\n",
    "# 데이터프레임은 하나하나 시리즈로 만들어진거니까\n",
    "# 이렇게만 들고오면 0,0,0,0,1,1,1,1이니까 치환해줘야함\n",
    "sy = sy.cat.rename_categories(iris.target_names)\n",
    "df['species'] = sy\n",
    "df.tail()\n",
    "# 끝에만 한번 보기\n",
    "# 데이터프레임으로 만들면 시각화하기 쉽다"
   ]
  },
  {
   "cell_type": "code",
   "execution_count": null,
   "id": "6362d3cb",
   "metadata": {},
   "outputs": [],
   "source": [
    "iris['data'].shape\n",
    "# 150개의 관측값에 4개의 속성으로 이뤄짐"
   ]
  },
  {
   "cell_type": "code",
   "execution_count": null,
   "id": "122e72d9",
   "metadata": {},
   "outputs": [],
   "source": [
    "iris['target'].shape"
   ]
  },
  {
   "cell_type": "markdown",
   "id": "dbffb5b7",
   "metadata": {},
   "source": [
    "### 훈련 데이터와 테스트 데이터 분리\n",
    "- 머신을 돌리기위해서는 훈련 데이터와 테스트 데이터로 분리해야 함\n",
    "- 과대적합(훈련 데이터에 너무 과하게 적합)을 피하기위해\n",
    "- 훈련 데이터(훈련세트) : 머신러닝 모델을 만들 때 사용\n",
    "- 테스트 데이터(테스트세트, 홀드아웃세트) : 모델이 얼마나 잘 작동하는지 측정하는데 사용"
   ]
  },
  {
   "cell_type": "code",
   "execution_count": null,
   "id": "12bf0706",
   "metadata": {},
   "outputs": [],
   "source": [
    "from sklearn.model_selection import train_test_split\n",
    "X_train, X_test, y_train, y_test = train_test_split(iris['data'], iris['target'],\n",
    "                                                   random_state=0)\n",
    "# random_state=0 : 시드값주는것데 0보다 크기만하면 다 상관없음"
   ]
  },
  {
   "cell_type": "code",
   "execution_count": null,
   "id": "8ef884a6",
   "metadata": {},
   "outputs": [],
   "source": [
    "print('X_train 크기 : ', X_train.shape)\n",
    "print('y_train 크기 : ', y_train.shape)\n",
    "# 문제가 112개면 답도 112개"
   ]
  },
  {
   "cell_type": "code",
   "execution_count": null,
   "id": "1bce0c2b",
   "metadata": {},
   "outputs": [],
   "source": [
    "print('X_test 크기 : ', X_test.shape)\n",
    "print('y_test 크기 : ', y_test.shape)\n",
    "# 112 + 38 = 150\n",
    "# 잘 분할됏음"
   ]
  },
  {
   "cell_type": "markdown",
   "id": "9d0980ac",
   "metadata": {},
   "source": [
    "### 데이터 살펴보기"
   ]
  },
  {
   "cell_type": "code",
   "execution_count": null,
   "id": "7d57a69f",
   "metadata": {},
   "outputs": [],
   "source": [
    "# 여러개의 데이터를 한번에 보여주는 산점도 행렬 그래프 \n",
    "# pd.plotting.scatter_matrix\n",
    "# iris는 속성이 4개니까"
   ]
  },
  {
   "cell_type": "code",
   "execution_count": null,
   "id": "68306512",
   "metadata": {},
   "outputs": [],
   "source": [
    "iris_df = pd.DataFrame(X_train, columns = iris.feature_names)\n",
    "pd.plotting.scatter_matrix(iris_df, c=y_train, figsize=(15, 15),\n",
    "                           marker='o', hist_kwds={'bins':20}, s = 60, alpha =.8)\n",
    "# 아까 만들었던 species 컬럼은 빼고 만들기\n",
    "# figsize =그림 크기"
   ]
  },
  {
   "cell_type": "code",
   "execution_count": null,
   "id": "e1cb1155",
   "metadata": {},
   "outputs": [],
   "source": [
    "import seaborn as sns\n",
    "sns.pairplot(df, hue='species')\n",
    "# 훨씬더 빠르게 시각화 가능\n",
    "# 게다가 이쁨"
   ]
  },
  {
   "cell_type": "markdown",
   "id": "925b2d40",
   "metadata": {},
   "source": [
    "### knn 최근접 이웃 알고리즘(단점 : 적절한 k의 선택이 필요하다)\n",
    "- k가 너무 작을 때 : Overfitting(과대적합)\n",
    "- k가 너무 클 때 : Underfitting(과소적합)\n",
    "- 모델이 복잡할수록 훈련 데이터에 대해서는 더 정확하게 예측한다\n",
    "- 우리가 찾으려는 모델은 일반화 성능이 최대가 되는 최척점에 있는 모델이다"
   ]
  },
  {
   "cell_type": "code",
   "execution_count": 3,
   "id": "54ed2075",
   "metadata": {},
   "outputs": [
    {
     "name": "stdout",
     "output_type": "stream",
     "text": [
      "Requirement already satisfied: mglearn in c:\\anaconda3\\lib\\site-packages (0.1.9)\n",
      "Requirement already satisfied: matplotlib in c:\\anaconda3\\lib\\site-packages (from mglearn) (3.4.3)\n",
      "Requirement already satisfied: joblib in c:\\anaconda3\\lib\\site-packages (from mglearn) (1.1.0)\n",
      "Requirement already satisfied: pandas in c:\\anaconda3\\lib\\site-packages (from mglearn) (1.3.4)\n",
      "Requirement already satisfied: pillow in c:\\anaconda3\\lib\\site-packages (from mglearn) (8.4.0)\n",
      "Requirement already satisfied: numpy in c:\\anaconda3\\lib\\site-packages (from mglearn) (1.20.3)\n",
      "Requirement already satisfied: imageio in c:\\anaconda3\\lib\\site-packages (from mglearn) (2.9.0)\n",
      "Requirement already satisfied: scikit-learn in c:\\anaconda3\\lib\\site-packages (from mglearn) (0.24.2)\n",
      "Requirement already satisfied: cycler in c:\\anaconda3\\lib\\site-packages (from mglearn) (0.10.0)\n",
      "Requirement already satisfied: six in c:\\anaconda3\\lib\\site-packages (from cycler->mglearn) (1.16.0)\n",
      "Requirement already satisfied: python-dateutil>=2.7 in c:\\anaconda3\\lib\\site-packages (from matplotlib->mglearn) (2.8.2)\n",
      "Requirement already satisfied: pyparsing>=2.2.1 in c:\\anaconda3\\lib\\site-packages (from matplotlib->mglearn) (3.0.4)\n",
      "Requirement already satisfied: kiwisolver>=1.0.1 in c:\\anaconda3\\lib\\site-packages (from matplotlib->mglearn) (1.3.1)\n",
      "Requirement already satisfied: pytz>=2017.3 in c:\\anaconda3\\lib\\site-packages (from pandas->mglearn) (2021.3)\n",
      "Requirement already satisfied: threadpoolctl>=2.0.0 in c:\\anaconda3\\lib\\site-packages (from scikit-learn->mglearn) (2.2.0)\n",
      "Requirement already satisfied: scipy>=0.19.1 in c:\\anaconda3\\lib\\site-packages (from scikit-learn->mglearn) (1.7.1)\n"
     ]
    }
   ],
   "source": [
    "!pip install mglearn"
   ]
  },
  {
   "cell_type": "code",
   "execution_count": 4,
   "id": "7455fad4",
   "metadata": {},
   "outputs": [],
   "source": [
    "import mglearn"
   ]
  },
  {
   "cell_type": "code",
   "execution_count": 5,
   "id": "a7fb6cdc",
   "metadata": {},
   "outputs": [],
   "source": [
    "from sklearn.neighbors import KNeighborsClassifier\n",
    "knn = KNeighborsClassifier(n_neighbors=1)\n",
    "# 가장 최적의 k를 찾으려고 하는것\n",
    "# 반복문으로 정확도 가장 높은 것 찾기"
   ]
  },
  {
   "cell_type": "code",
   "execution_count": null,
   "id": "f3820faa",
   "metadata": {},
   "outputs": [],
   "source": [
    "knn.fit(X_train, y_train)\n",
    "# 별도의 옵션을 주지않아서 이렇게만 뜸"
   ]
  },
  {
   "cell_type": "code",
   "execution_count": null,
   "id": "6dd99e04",
   "metadata": {},
   "outputs": [],
   "source": [
    "print('훈련세트의 정확도 : \\n{:.2f}'.format(knn.score(X_train, y_train)))\n",
    "# 소숫점 이하 두번째 자리까지 보기\n",
    "# .format 오랜만이다"
   ]
  },
  {
   "cell_type": "markdown",
   "id": "258be95c",
   "metadata": {},
   "source": [
    "### 예측하기"
   ]
  },
  {
   "cell_type": "code",
   "execution_count": null,
   "id": "e8484229",
   "metadata": {},
   "outputs": [],
   "source": [
    "X_new = np.array([[5, 2.9, 1, 0.2]])\n",
    "print('X_new.shape : ', X_new.shape)\n",
    "# 1행 4열"
   ]
  },
  {
   "cell_type": "code",
   "execution_count": null,
   "id": "62f073ad",
   "metadata": {},
   "outputs": [],
   "source": [
    "prediction = knn.predict(X_new)\n",
    "print('예측 : ', prediction)\n",
    "print('예측한 타겟의 이름 : ', iris['target_names'][prediction])"
   ]
  },
  {
   "cell_type": "markdown",
   "id": "5f938c07",
   "metadata": {},
   "source": [
    "### 모델 평가하기"
   ]
  },
  {
   "cell_type": "code",
   "execution_count": null,
   "id": "559768f5",
   "metadata": {},
   "outputs": [],
   "source": [
    "y_pred = knn.predict(X_test)"
   ]
  },
  {
   "cell_type": "code",
   "execution_count": null,
   "id": "1aa1a97c",
   "metadata": {},
   "outputs": [],
   "source": [
    "print('테스트 데이터에 대한 예측값 : \\n', y_pred)"
   ]
  },
  {
   "cell_type": "code",
   "execution_count": null,
   "id": "cc5ef433",
   "metadata": {},
   "outputs": [],
   "source": [
    "for i in range(0, len(y_pred)):\n",
    "    yhat = y_pred[i]\n",
    "    print('{} : {}'.format(X_test[i], iris['target_names'][yhat]))"
   ]
  },
  {
   "cell_type": "code",
   "execution_count": null,
   "id": "1c55e6a4",
   "metadata": {},
   "outputs": [],
   "source": [
    "print('테스트 데이터의 정확도: {:.2f}'.format(knn.score(X_test, y_test)))"
   ]
  },
  {
   "cell_type": "code",
   "execution_count": null,
   "id": "4057e6e0",
   "metadata": {},
   "outputs": [],
   "source": [
    "print('테스트 데이터의 정확도: {:.2f}'.format(np.mean(y_pred == y_test)))"
   ]
  },
  {
   "cell_type": "code",
   "execution_count": null,
   "id": "15bcaa2a",
   "metadata": {},
   "outputs": [],
   "source": [
    "y_pred == y_test"
   ]
  },
  {
   "cell_type": "code",
   "execution_count": null,
   "id": "1c5e3a30",
   "metadata": {},
   "outputs": [],
   "source": [
    "y_pred"
   ]
  },
  {
   "cell_type": "code",
   "execution_count": null,
   "id": "4ddf0d7e",
   "metadata": {},
   "outputs": [],
   "source": [
    "y_test"
   ]
  },
  {
   "cell_type": "markdown",
   "id": "ebb6207b",
   "metadata": {},
   "source": [
    "- 사이킷런 패키지는 metrics 서브패키지에서 다음처럼 다양한 분류용 성능평가 명령을 제공한다.\n",
    "1. confusion_matrix(y_true, y_pred)\n",
    "2. accuracy_score(y_true, y_pred)\n",
    "3. precision_score(y_true, y_pred)\n",
    "4. recall_score(y_true, y_pred)\n",
    "5. fbeta_score(y_true, y_pred, beta)\n",
    "6. f1_score(y_true, y_pred)\n",
    "7. classfication_report(y_true, y_pred)\n",
    "8. roc_curve\n",
    "9. auc"
   ]
  },
  {
   "cell_type": "markdown",
   "id": "a3bce366",
   "metadata": {},
   "source": [
    "### 최적의 k값 찾기"
   ]
  },
  {
   "cell_type": "code",
   "execution_count": 6,
   "id": "9ad76283",
   "metadata": {},
   "outputs": [
    {
     "ename": "NameError",
     "evalue": "name 'X_train' is not defined",
     "output_type": "error",
     "traceback": [
      "\u001b[1;31m---------------------------------------------------------------------------\u001b[0m",
      "\u001b[1;31mNameError\u001b[0m                                 Traceback (most recent call last)",
      "\u001b[1;32m~\\AppData\\Local\\Temp/ipykernel_13488/901821052.py\u001b[0m in \u001b[0;36m<module>\u001b[1;34m\u001b[0m\n\u001b[0;32m      7\u001b[0m \u001b[1;33m\u001b[0m\u001b[0m\n\u001b[0;32m      8\u001b[0m \u001b[1;32mfor\u001b[0m \u001b[0mk\u001b[0m \u001b[1;32min\u001b[0m \u001b[0mrange\u001b[0m\u001b[1;33m(\u001b[0m\u001b[1;36m1\u001b[0m\u001b[1;33m,\u001b[0m \u001b[0mks\u001b[0m\u001b[1;33m)\u001b[0m\u001b[1;33m:\u001b[0m\u001b[1;33m\u001b[0m\u001b[1;33m\u001b[0m\u001b[0m\n\u001b[1;32m----> 9\u001b[1;33m     \u001b[0mclf\u001b[0m \u001b[1;33m=\u001b[0m \u001b[0mKNeighborsClassifier\u001b[0m\u001b[1;33m(\u001b[0m\u001b[0mn_neighbors\u001b[0m \u001b[1;33m=\u001b[0m \u001b[0mk\u001b[0m\u001b[1;33m)\u001b[0m\u001b[1;33m.\u001b[0m\u001b[0mfit\u001b[0m\u001b[1;33m(\u001b[0m\u001b[0mX_train\u001b[0m\u001b[1;33m,\u001b[0m \u001b[0my_train\u001b[0m\u001b[1;33m)\u001b[0m\u001b[1;33m\u001b[0m\u001b[1;33m\u001b[0m\u001b[0m\n\u001b[0m\u001b[0;32m     10\u001b[0m     \u001b[0myhat\u001b[0m \u001b[1;33m=\u001b[0m \u001b[0mclf\u001b[0m\u001b[1;33m.\u001b[0m\u001b[0mpredict\u001b[0m\u001b[1;33m(\u001b[0m\u001b[0mX_test\u001b[0m\u001b[1;33m)\u001b[0m\u001b[1;33m\u001b[0m\u001b[1;33m\u001b[0m\u001b[0m\n\u001b[0;32m     11\u001b[0m     \u001b[0mmean_acc\u001b[0m\u001b[1;33m[\u001b[0m\u001b[0mk\u001b[0m\u001b[1;33m-\u001b[0m\u001b[1;36m1\u001b[0m\u001b[1;33m]\u001b[0m \u001b[1;33m=\u001b[0m \u001b[0maccuracy_score\u001b[0m\u001b[1;33m(\u001b[0m\u001b[0my_test\u001b[0m\u001b[1;33m,\u001b[0m \u001b[0myhat\u001b[0m\u001b[1;33m)\u001b[0m\u001b[1;33m\u001b[0m\u001b[1;33m\u001b[0m\u001b[0m\n",
      "\u001b[1;31mNameError\u001b[0m: name 'X_train' is not defined"
     ]
    }
   ],
   "source": [
    "from sklearn.metrics import accuracy_score\n",
    "\n",
    "# 1 ~ 100\n",
    "\n",
    "ks = 100\n",
    "mean_acc = np.zeros((ks-1))\n",
    "\n",
    "for k in range(1, ks):\n",
    "    clf = KNeighborsClassifier(n_neighbors = k).fit(X_train, y_train)\n",
    "    yhat = clf.predict(X_test)\n",
    "    mean_acc[k-1] = accuracy_score(y_test, yhat)\n",
    "    \n",
    "print(mean_acc)\n",
    "# 찍어보기\n",
    "# 숫자로 돼잇는건 보기어려움"
   ]
  },
  {
   "cell_type": "code",
   "execution_count": null,
   "id": "9d7aaf34",
   "metadata": {},
   "outputs": [],
   "source": [
    "# 시각화로 한눈에 보기\n",
    "plt.plot(range(1, ks), mean_acc, 'r')\n",
    "plt.xlabel('Number of Neighbors(k)')\n",
    "plt.ylabel('Accuracy')\n",
    "plt.tight_layout()\n",
    "plt.show()\n",
    "# 보면 정확도 0.97 == 97%에서 끝나는걸 확인할 수 있음"
   ]
  },
  {
   "cell_type": "markdown",
   "id": "77f624d6",
   "metadata": {},
   "source": [
    "## 와인 데이터\n",
    "- 와인의 화학 성분을 사용하여 와인의 종류를 예측하기 위한 데이터 셋"
   ]
  },
  {
   "cell_type": "code",
   "execution_count": 33,
   "id": "ae9715b3",
   "metadata": {},
   "outputs": [
    {
     "data": {
      "text/plain": [
       "{'data': array([[1.423e+01, 1.710e+00, 2.430e+00, ..., 1.040e+00, 3.920e+00,\n",
       "         1.065e+03],\n",
       "        [1.320e+01, 1.780e+00, 2.140e+00, ..., 1.050e+00, 3.400e+00,\n",
       "         1.050e+03],\n",
       "        [1.316e+01, 2.360e+00, 2.670e+00, ..., 1.030e+00, 3.170e+00,\n",
       "         1.185e+03],\n",
       "        ...,\n",
       "        [1.327e+01, 4.280e+00, 2.260e+00, ..., 5.900e-01, 1.560e+00,\n",
       "         8.350e+02],\n",
       "        [1.317e+01, 2.590e+00, 2.370e+00, ..., 6.000e-01, 1.620e+00,\n",
       "         8.400e+02],\n",
       "        [1.413e+01, 4.100e+00, 2.740e+00, ..., 6.100e-01, 1.600e+00,\n",
       "         5.600e+02]]),\n",
       " 'target': array([0, 0, 0, 0, 0, 0, 0, 0, 0, 0, 0, 0, 0, 0, 0, 0, 0, 0, 0, 0, 0, 0,\n",
       "        0, 0, 0, 0, 0, 0, 0, 0, 0, 0, 0, 0, 0, 0, 0, 0, 0, 0, 0, 0, 0, 0,\n",
       "        0, 0, 0, 0, 0, 0, 0, 0, 0, 0, 0, 0, 0, 0, 0, 1, 1, 1, 1, 1, 1, 1,\n",
       "        1, 1, 1, 1, 1, 1, 1, 1, 1, 1, 1, 1, 1, 1, 1, 1, 1, 1, 1, 1, 1, 1,\n",
       "        1, 1, 1, 1, 1, 1, 1, 1, 1, 1, 1, 1, 1, 1, 1, 1, 1, 1, 1, 1, 1, 1,\n",
       "        1, 1, 1, 1, 1, 1, 1, 1, 1, 1, 1, 1, 1, 1, 1, 1, 1, 1, 1, 1, 2, 2,\n",
       "        2, 2, 2, 2, 2, 2, 2, 2, 2, 2, 2, 2, 2, 2, 2, 2, 2, 2, 2, 2, 2, 2,\n",
       "        2, 2, 2, 2, 2, 2, 2, 2, 2, 2, 2, 2, 2, 2, 2, 2, 2, 2, 2, 2, 2, 2,\n",
       "        2, 2]),\n",
       " 'frame': None,\n",
       " 'target_names': array(['class_0', 'class_1', 'class_2'], dtype='<U7'),\n",
       " 'DESCR': '.. _wine_dataset:\\n\\nWine recognition dataset\\n------------------------\\n\\n**Data Set Characteristics:**\\n\\n    :Number of Instances: 178 (50 in each of three classes)\\n    :Number of Attributes: 13 numeric, predictive attributes and the class\\n    :Attribute Information:\\n \\t\\t- Alcohol\\n \\t\\t- Malic acid\\n \\t\\t- Ash\\n\\t\\t- Alcalinity of ash  \\n \\t\\t- Magnesium\\n\\t\\t- Total phenols\\n \\t\\t- Flavanoids\\n \\t\\t- Nonflavanoid phenols\\n \\t\\t- Proanthocyanins\\n\\t\\t- Color intensity\\n \\t\\t- Hue\\n \\t\\t- OD280/OD315 of diluted wines\\n \\t\\t- Proline\\n\\n    - class:\\n            - class_0\\n            - class_1\\n            - class_2\\n\\t\\t\\n    :Summary Statistics:\\n    \\n    ============================= ==== ===== ======= =====\\n                                   Min   Max   Mean     SD\\n    ============================= ==== ===== ======= =====\\n    Alcohol:                      11.0  14.8    13.0   0.8\\n    Malic Acid:                   0.74  5.80    2.34  1.12\\n    Ash:                          1.36  3.23    2.36  0.27\\n    Alcalinity of Ash:            10.6  30.0    19.5   3.3\\n    Magnesium:                    70.0 162.0    99.7  14.3\\n    Total Phenols:                0.98  3.88    2.29  0.63\\n    Flavanoids:                   0.34  5.08    2.03  1.00\\n    Nonflavanoid Phenols:         0.13  0.66    0.36  0.12\\n    Proanthocyanins:              0.41  3.58    1.59  0.57\\n    Colour Intensity:              1.3  13.0     5.1   2.3\\n    Hue:                          0.48  1.71    0.96  0.23\\n    OD280/OD315 of diluted wines: 1.27  4.00    2.61  0.71\\n    Proline:                       278  1680     746   315\\n    ============================= ==== ===== ======= =====\\n\\n    :Missing Attribute Values: None\\n    :Class Distribution: class_0 (59), class_1 (71), class_2 (48)\\n    :Creator: R.A. Fisher\\n    :Donor: Michael Marshall (MARSHALL%PLU@io.arc.nasa.gov)\\n    :Date: July, 1988\\n\\nThis is a copy of UCI ML Wine recognition datasets.\\nhttps://archive.ics.uci.edu/ml/machine-learning-databases/wine/wine.data\\n\\nThe data is the results of a chemical analysis of wines grown in the same\\nregion in Italy by three different cultivators. There are thirteen different\\nmeasurements taken for different constituents found in the three types of\\nwine.\\n\\nOriginal Owners: \\n\\nForina, M. et al, PARVUS - \\nAn Extendible Package for Data Exploration, Classification and Correlation. \\nInstitute of Pharmaceutical and Food Analysis and Technologies,\\nVia Brigata Salerno, 16147 Genoa, Italy.\\n\\nCitation:\\n\\nLichman, M. (2013). UCI Machine Learning Repository\\n[https://archive.ics.uci.edu/ml]. Irvine, CA: University of California,\\nSchool of Information and Computer Science. \\n\\n.. topic:: References\\n\\n  (1) S. Aeberhard, D. Coomans and O. de Vel, \\n  Comparison of Classifiers in High Dimensional Settings, \\n  Tech. Rep. no. 92-02, (1992), Dept. of Computer Science and Dept. of  \\n  Mathematics and Statistics, James Cook University of North Queensland. \\n  (Also submitted to Technometrics). \\n\\n  The data was used with many others for comparing various \\n  classifiers. The classes are separable, though only RDA \\n  has achieved 100% correct classification. \\n  (RDA : 100%, QDA 99.4%, LDA 98.9%, 1NN 96.1% (z-transformed data)) \\n  (All results using the leave-one-out technique) \\n\\n  (2) S. Aeberhard, D. Coomans and O. de Vel, \\n  \"THE CLASSIFICATION PERFORMANCE OF RDA\" \\n  Tech. Rep. no. 92-01, (1992), Dept. of Computer Science and Dept. of \\n  Mathematics and Statistics, James Cook University of North Queensland. \\n  (Also submitted to Journal of Chemometrics).\\n',\n",
       " 'feature_names': ['alcohol',\n",
       "  'malic_acid',\n",
       "  'ash',\n",
       "  'alcalinity_of_ash',\n",
       "  'magnesium',\n",
       "  'total_phenols',\n",
       "  'flavanoids',\n",
       "  'nonflavanoid_phenols',\n",
       "  'proanthocyanins',\n",
       "  'color_intensity',\n",
       "  'hue',\n",
       "  'od280/od315_of_diluted_wines',\n",
       "  'proline']}"
      ]
     },
     "execution_count": 33,
     "metadata": {},
     "output_type": "execute_result"
    }
   ],
   "source": [
    "from sklearn.datasets import load_wine\n",
    "wine = load_wine()\n",
    "wine"
   ]
  },
  {
   "cell_type": "code",
   "execution_count": 35,
   "id": "c1c26e5e",
   "metadata": {},
   "outputs": [
    {
     "ename": "NameError",
     "evalue": "name 'target_names' is not defined",
     "output_type": "error",
     "traceback": [
      "\u001b[1;31m---------------------------------------------------------------------------\u001b[0m",
      "\u001b[1;31mNameError\u001b[0m                                 Traceback (most recent call last)",
      "\u001b[1;32m~\\AppData\\Local\\Temp/ipykernel_22580/3936365442.py\u001b[0m in \u001b[0;36m<module>\u001b[1;34m\u001b[0m\n\u001b[1;32m----> 1\u001b[1;33m \u001b[0mlen\u001b[0m\u001b[1;33m(\u001b[0m\u001b[0mtarget_names\u001b[0m\u001b[1;33m)\u001b[0m\u001b[1;33m\u001b[0m\u001b[1;33m\u001b[0m\u001b[0m\n\u001b[0m",
      "\u001b[1;31mNameError\u001b[0m: name 'target_names' is not defined"
     ]
    }
   ],
   "source": [
    "len(target_names)"
   ]
  },
  {
   "cell_type": "code",
   "execution_count": 34,
   "id": "52a3ca29",
   "metadata": {},
   "outputs": [
    {
     "name": "stdout",
     "output_type": "stream",
     "text": [
      "wine의 키 : \n",
      " dict_keys(['data', 'target', 'frame', 'target_names', 'DESCR', 'feature_names'])\n"
     ]
    }
   ],
   "source": [
    "print('wine의 키 : \\n', wine.keys())"
   ]
  },
  {
   "cell_type": "code",
   "execution_count": null,
   "id": "c4b21fa5",
   "metadata": {},
   "outputs": [],
   "source": [
    "plt.scatter(data, target)\n",
    "plt.xlabel('length')\n",
    "plt.ylabel('weight')\n",
    "plt.show()"
   ]
  },
  {
   "cell_type": "code",
   "execution_count": 36,
   "id": "8b053f9a",
   "metadata": {},
   "outputs": [],
   "source": [
    "# 필요한 패키지 로딩\n",
    "import numpy as np\n",
    "import pandas as pd\n",
    "import matplotlib.pyplot as plt\n",
    "%matplotlib inline\n",
    "import seaborn as sns"
   ]
  },
  {
   "cell_type": "code",
   "execution_count": null,
   "id": "28755797",
   "metadata": {},
   "outputs": [],
   "source": []
  },
  {
   "cell_type": "code",
   "execution_count": null,
   "id": "6b9133f4",
   "metadata": {},
   "outputs": [],
   "source": []
  },
  {
   "cell_type": "code",
   "execution_count": null,
   "id": "6e7b8af5",
   "metadata": {},
   "outputs": [],
   "source": []
  },
  {
   "cell_type": "markdown",
   "id": "35e62a61",
   "metadata": {},
   "source": [
    "- 컬럼의 종류\n",
    "- fixed acidity : 고정 산도\n",
    "- volatile acidity : 휘발성 산도\n",
    "- citric acid : 시트르산\n",
    "- residual sugar : 잔류 당분\n",
    "- chlorides : 염화물\n",
    "- free sulfur dioxide : 자유 이산화황\n",
    "- total sulfur dioxide : 총 이산화황\n",
    "- density : 밀도\n",
    "- pH\n",
    "- sulphates : 황산염\n",
    "- alcohol\n",
    "- quality : 0 ~ 10(높을 수록 좋은 품질)"
   ]
  },
  {
   "cell_type": "markdown",
   "id": "9dd01aa6",
   "metadata": {},
   "source": [
    "## 유방암 진단 데이터\n",
    "- 유방암(breast cancer)진단 데이터 셋\n",
    "- 유방암 진단 사진으로부터 측정한 종양(tumor)의 특정값을 사용하여 종양이 양성(begin)인지 악성(malignant)인지 하는 판별하는 예제"
   ]
  },
  {
   "cell_type": "code",
   "execution_count": 4,
   "id": "177cad67",
   "metadata": {},
   "outputs": [
    {
     "data": {
      "text/plain": [
       "{'data': array([[1.799e+01, 1.038e+01, 1.228e+02, ..., 2.654e-01, 4.601e-01,\n",
       "         1.189e-01],\n",
       "        [2.057e+01, 1.777e+01, 1.329e+02, ..., 1.860e-01, 2.750e-01,\n",
       "         8.902e-02],\n",
       "        [1.969e+01, 2.125e+01, 1.300e+02, ..., 2.430e-01, 3.613e-01,\n",
       "         8.758e-02],\n",
       "        ...,\n",
       "        [1.660e+01, 2.808e+01, 1.083e+02, ..., 1.418e-01, 2.218e-01,\n",
       "         7.820e-02],\n",
       "        [2.060e+01, 2.933e+01, 1.401e+02, ..., 2.650e-01, 4.087e-01,\n",
       "         1.240e-01],\n",
       "        [7.760e+00, 2.454e+01, 4.792e+01, ..., 0.000e+00, 2.871e-01,\n",
       "         7.039e-02]]),\n",
       " 'target': array([0, 0, 0, 0, 0, 0, 0, 0, 0, 0, 0, 0, 0, 0, 0, 0, 0, 0, 0, 1, 1, 1,\n",
       "        0, 0, 0, 0, 0, 0, 0, 0, 0, 0, 0, 0, 0, 0, 0, 1, 0, 0, 0, 0, 0, 0,\n",
       "        0, 0, 1, 0, 1, 1, 1, 1, 1, 0, 0, 1, 0, 0, 1, 1, 1, 1, 0, 1, 0, 0,\n",
       "        1, 1, 1, 1, 0, 1, 0, 0, 1, 0, 1, 0, 0, 1, 1, 1, 0, 0, 1, 0, 0, 0,\n",
       "        1, 1, 1, 0, 1, 1, 0, 0, 1, 1, 1, 0, 0, 1, 1, 1, 1, 0, 1, 1, 0, 1,\n",
       "        1, 1, 1, 1, 1, 1, 1, 0, 0, 0, 1, 0, 0, 1, 1, 1, 0, 0, 1, 0, 1, 0,\n",
       "        0, 1, 0, 0, 1, 1, 0, 1, 1, 0, 1, 1, 1, 1, 0, 1, 1, 1, 1, 1, 1, 1,\n",
       "        1, 1, 0, 1, 1, 1, 1, 0, 0, 1, 0, 1, 1, 0, 0, 1, 1, 0, 0, 1, 1, 1,\n",
       "        1, 0, 1, 1, 0, 0, 0, 1, 0, 1, 0, 1, 1, 1, 0, 1, 1, 0, 0, 1, 0, 0,\n",
       "        0, 0, 1, 0, 0, 0, 1, 0, 1, 0, 1, 1, 0, 1, 0, 0, 0, 0, 1, 1, 0, 0,\n",
       "        1, 1, 1, 0, 1, 1, 1, 1, 1, 0, 0, 1, 1, 0, 1, 1, 0, 0, 1, 0, 1, 1,\n",
       "        1, 1, 0, 1, 1, 1, 1, 1, 0, 1, 0, 0, 0, 0, 0, 0, 0, 0, 0, 0, 0, 0,\n",
       "        0, 0, 1, 1, 1, 1, 1, 1, 0, 1, 0, 1, 1, 0, 1, 1, 0, 1, 0, 0, 1, 1,\n",
       "        1, 1, 1, 1, 1, 1, 1, 1, 1, 1, 1, 0, 1, 1, 0, 1, 0, 1, 1, 1, 1, 1,\n",
       "        1, 1, 1, 1, 1, 1, 1, 1, 1, 0, 1, 1, 1, 0, 1, 0, 1, 1, 1, 1, 0, 0,\n",
       "        0, 1, 1, 1, 1, 0, 1, 0, 1, 0, 1, 1, 1, 0, 1, 1, 1, 1, 1, 1, 1, 0,\n",
       "        0, 0, 1, 1, 1, 1, 1, 1, 1, 1, 1, 1, 1, 0, 0, 1, 0, 0, 0, 1, 0, 0,\n",
       "        1, 1, 1, 1, 1, 0, 1, 1, 1, 1, 1, 0, 1, 1, 1, 0, 1, 1, 0, 0, 1, 1,\n",
       "        1, 1, 1, 1, 0, 1, 1, 1, 1, 1, 1, 1, 0, 1, 1, 1, 1, 1, 0, 1, 1, 0,\n",
       "        1, 1, 1, 1, 1, 1, 1, 1, 1, 1, 1, 1, 0, 1, 0, 0, 1, 0, 1, 1, 1, 1,\n",
       "        1, 0, 1, 1, 0, 1, 0, 1, 1, 0, 1, 0, 1, 1, 1, 1, 1, 1, 1, 1, 0, 0,\n",
       "        1, 1, 1, 1, 1, 1, 0, 1, 1, 1, 1, 1, 1, 1, 1, 1, 1, 0, 1, 1, 1, 1,\n",
       "        1, 1, 1, 0, 1, 0, 1, 1, 0, 1, 1, 1, 1, 1, 0, 0, 1, 0, 1, 0, 1, 1,\n",
       "        1, 1, 1, 0, 1, 1, 0, 1, 0, 1, 0, 0, 1, 1, 1, 0, 1, 1, 1, 1, 1, 1,\n",
       "        1, 1, 1, 1, 1, 0, 1, 0, 0, 1, 1, 1, 1, 1, 1, 1, 1, 1, 1, 1, 1, 1,\n",
       "        1, 1, 1, 1, 1, 1, 1, 1, 1, 1, 1, 1, 0, 0, 0, 0, 0, 0, 1]),\n",
       " 'frame': None,\n",
       " 'target_names': array(['malignant', 'benign'], dtype='<U9'),\n",
       " 'DESCR': '.. _breast_cancer_dataset:\\n\\nBreast cancer wisconsin (diagnostic) dataset\\n--------------------------------------------\\n\\n**Data Set Characteristics:**\\n\\n    :Number of Instances: 569\\n\\n    :Number of Attributes: 30 numeric, predictive attributes and the class\\n\\n    :Attribute Information:\\n        - radius (mean of distances from center to points on the perimeter)\\n        - texture (standard deviation of gray-scale values)\\n        - perimeter\\n        - area\\n        - smoothness (local variation in radius lengths)\\n        - compactness (perimeter^2 / area - 1.0)\\n        - concavity (severity of concave portions of the contour)\\n        - concave points (number of concave portions of the contour)\\n        - symmetry\\n        - fractal dimension (\"coastline approximation\" - 1)\\n\\n        The mean, standard error, and \"worst\" or largest (mean of the three\\n        worst/largest values) of these features were computed for each image,\\n        resulting in 30 features.  For instance, field 0 is Mean Radius, field\\n        10 is Radius SE, field 20 is Worst Radius.\\n\\n        - class:\\n                - WDBC-Malignant\\n                - WDBC-Benign\\n\\n    :Summary Statistics:\\n\\n    ===================================== ====== ======\\n                                           Min    Max\\n    ===================================== ====== ======\\n    radius (mean):                        6.981  28.11\\n    texture (mean):                       9.71   39.28\\n    perimeter (mean):                     43.79  188.5\\n    area (mean):                          143.5  2501.0\\n    smoothness (mean):                    0.053  0.163\\n    compactness (mean):                   0.019  0.345\\n    concavity (mean):                     0.0    0.427\\n    concave points (mean):                0.0    0.201\\n    symmetry (mean):                      0.106  0.304\\n    fractal dimension (mean):             0.05   0.097\\n    radius (standard error):              0.112  2.873\\n    texture (standard error):             0.36   4.885\\n    perimeter (standard error):           0.757  21.98\\n    area (standard error):                6.802  542.2\\n    smoothness (standard error):          0.002  0.031\\n    compactness (standard error):         0.002  0.135\\n    concavity (standard error):           0.0    0.396\\n    concave points (standard error):      0.0    0.053\\n    symmetry (standard error):            0.008  0.079\\n    fractal dimension (standard error):   0.001  0.03\\n    radius (worst):                       7.93   36.04\\n    texture (worst):                      12.02  49.54\\n    perimeter (worst):                    50.41  251.2\\n    area (worst):                         185.2  4254.0\\n    smoothness (worst):                   0.071  0.223\\n    compactness (worst):                  0.027  1.058\\n    concavity (worst):                    0.0    1.252\\n    concave points (worst):               0.0    0.291\\n    symmetry (worst):                     0.156  0.664\\n    fractal dimension (worst):            0.055  0.208\\n    ===================================== ====== ======\\n\\n    :Missing Attribute Values: None\\n\\n    :Class Distribution: 212 - Malignant, 357 - Benign\\n\\n    :Creator:  Dr. William H. Wolberg, W. Nick Street, Olvi L. Mangasarian\\n\\n    :Donor: Nick Street\\n\\n    :Date: November, 1995\\n\\nThis is a copy of UCI ML Breast Cancer Wisconsin (Diagnostic) datasets.\\nhttps://goo.gl/U2Uwz2\\n\\nFeatures are computed from a digitized image of a fine needle\\naspirate (FNA) of a breast mass.  They describe\\ncharacteristics of the cell nuclei present in the image.\\n\\nSeparating plane described above was obtained using\\nMultisurface Method-Tree (MSM-T) [K. P. Bennett, \"Decision Tree\\nConstruction Via Linear Programming.\" Proceedings of the 4th\\nMidwest Artificial Intelligence and Cognitive Science Society,\\npp. 97-101, 1992], a classification method which uses linear\\nprogramming to construct a decision tree.  Relevant features\\nwere selected using an exhaustive search in the space of 1-4\\nfeatures and 1-3 separating planes.\\n\\nThe actual linear program used to obtain the separating plane\\nin the 3-dimensional space is that described in:\\n[K. P. Bennett and O. L. Mangasarian: \"Robust Linear\\nProgramming Discrimination of Two Linearly Inseparable Sets\",\\nOptimization Methods and Software 1, 1992, 23-34].\\n\\nThis database is also available through the UW CS ftp server:\\n\\nftp ftp.cs.wisc.edu\\ncd math-prog/cpo-dataset/machine-learn/WDBC/\\n\\n.. topic:: References\\n\\n   - W.N. Street, W.H. Wolberg and O.L. Mangasarian. Nuclear feature extraction \\n     for breast tumor diagnosis. IS&T/SPIE 1993 International Symposium on \\n     Electronic Imaging: Science and Technology, volume 1905, pages 861-870,\\n     San Jose, CA, 1993.\\n   - O.L. Mangasarian, W.N. Street and W.H. Wolberg. Breast cancer diagnosis and \\n     prognosis via linear programming. Operations Research, 43(4), pages 570-577, \\n     July-August 1995.\\n   - W.H. Wolberg, W.N. Street, and O.L. Mangasarian. Machine learning techniques\\n     to diagnose breast cancer from fine-needle aspirates. Cancer Letters 77 (1994) \\n     163-171.',\n",
       " 'feature_names': array(['mean radius', 'mean texture', 'mean perimeter', 'mean area',\n",
       "        'mean smoothness', 'mean compactness', 'mean concavity',\n",
       "        'mean concave points', 'mean symmetry', 'mean fractal dimension',\n",
       "        'radius error', 'texture error', 'perimeter error', 'area error',\n",
       "        'smoothness error', 'compactness error', 'concavity error',\n",
       "        'concave points error', 'symmetry error',\n",
       "        'fractal dimension error', 'worst radius', 'worst texture',\n",
       "        'worst perimeter', 'worst area', 'worst smoothness',\n",
       "        'worst compactness', 'worst concavity', 'worst concave points',\n",
       "        'worst symmetry', 'worst fractal dimension'], dtype='<U23'),\n",
       " 'filename': 'C:\\\\Anaconda3\\\\lib\\\\site-packages\\\\sklearn\\\\datasets\\\\data\\\\breast_cancer.csv'}"
      ]
     },
     "execution_count": 4,
     "metadata": {},
     "output_type": "execute_result"
    }
   ],
   "source": [
    "from sklearn.datasets import load_breast_cancer\n",
    "cancer = load_breast_cancer()\n",
    "cancer"
   ]
  },
  {
   "cell_type": "code",
   "execution_count": null,
   "id": "c3eec34b",
   "metadata": {},
   "outputs": [],
   "source": []
  },
  {
   "cell_type": "code",
   "execution_count": null,
   "id": "a2499210",
   "metadata": {},
   "outputs": [],
   "source": []
  },
  {
   "cell_type": "code",
   "execution_count": null,
   "id": "aee39e91",
   "metadata": {},
   "outputs": [],
   "source": []
  },
  {
   "cell_type": "code",
   "execution_count": null,
   "id": "f58063c7",
   "metadata": {},
   "outputs": [],
   "source": []
  }
 ],
 "metadata": {
  "kernelspec": {
   "display_name": "Python 3 (ipykernel)",
   "language": "python",
   "name": "python3"
  },
  "language_info": {
   "codemirror_mode": {
    "name": "ipython",
    "version": 3
   },
   "file_extension": ".py",
   "mimetype": "text/x-python",
   "name": "python",
   "nbconvert_exporter": "python",
   "pygments_lexer": "ipython3",
   "version": "3.9.7"
  },
  "toc": {
   "base_numbering": 1,
   "nav_menu": {},
   "number_sections": true,
   "sideBar": true,
   "skip_h1_title": false,
   "title_cell": "Table of Contents",
   "title_sidebar": "Contents",
   "toc_cell": false,
   "toc_position": {},
   "toc_section_display": true,
   "toc_window_display": false
  }
 },
 "nbformat": 4,
 "nbformat_minor": 5
}

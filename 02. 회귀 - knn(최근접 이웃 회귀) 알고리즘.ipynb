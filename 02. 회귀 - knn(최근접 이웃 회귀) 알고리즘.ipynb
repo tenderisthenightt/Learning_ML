{
 "cells": [
  {
   "cell_type": "markdown",
   "id": "d6466aaf",
   "metadata": {},
   "source": [
    "# K - 최근접 이웃 회귀 알고리즘"
   ]
  },
  {
   "cell_type": "markdown",
   "id": "796858c5",
   "metadata": {},
   "source": [
    "## k-최근접 이웃 회귀\n",
    "- 회귀(regression) : 특정한 입력변수값을 사용하여 출력변수의 값을 계산하는 것을 예측(prediction)문제라고 한다. 예측문제 중에서 출력변수의 값이 연속적인 문제를 회귀(regression) 또는 회귀분석(regression analysis)라고 부른다\n",
    "- KNN Regression(K-최근접 이웃 회귀)알고리즘 : 주변의 가장 가까운 K개의 샘플을 통해 값을 예측하는 방식으로 가장 간단한 방식으로는 K개 샘플의 평균을 이용할 수 있다"
   ]
  },
  {
   "cell_type": "markdown",
   "id": "73d2844e",
   "metadata": {},
   "source": [
    "### 생선 무게 예측"
   ]
  },
  {
   "cell_type": "code",
   "execution_count": 2,
   "id": "ecd52577",
   "metadata": {},
   "outputs": [],
   "source": [
    "perch_length = np.array([8.4, 13.7, 15.0, 16.2, 17.4, 18.0, 18.7, 19.0, 19.6, 20.0, 21.0,\n",
    "       21.0, 21.0, 21.3, 22.0, 22.0, 22.0, 22.0, 22.0, 22.5, 22.5, 22.7,\n",
    "       23.0, 23.5, 24.0, 24.0, 24.6, 25.0, 25.6, 26.5, 27.3, 27.5, 27.5,\n",
    "       27.5, 28.0, 28.7, 30.0, 32.8, 34.5, 35.0, 36.5, 36.0, 37.0, 37.0,\n",
    "       39.0, 39.0, 39.0, 40.0, 40.0, 40.0, 40.0, 42.0, 43.0, 43.0, 43.5,\n",
    "       44.0])\n",
    "perch_weight = np.array([5.9, 32.0, 40.0, 51.5, 70.0, 100.0, 78.0, 80.0, 85.0, 85.0, 110.0,\n",
    "       115.0, 125.0, 130.0, 120.0, 120.0, 130.0, 135.0, 110.0, 130.0,\n",
    "       150.0, 145.0, 150.0, 170.0, 225.0, 145.0, 188.0, 180.0, 197.0,\n",
    "       218.0, 300.0, 260.0, 265.0, 250.0, 250.0, 300.0, 320.0, 514.0,\n",
    "       556.0, 840.0, 685.0, 700.0, 700.0, 690.0, 900.0, 650.0, 820.0,\n",
    "       850.0, 900.0, 1015.0, 820.0, 1100.0, 1000.0, 1100.0, 1000.0,\n",
    "       1000.0])"
   ]
  },
  {
   "cell_type": "markdown",
   "id": "0cca56a0",
   "metadata": {},
   "source": [
    "### 분류 및 예측을 위한 모델\n",
    "1. Model_based Learning(모델 기반 학습)\n",
    " - 데이터로부터 모델을 생성하여 분류/예측을 진행한다\n",
    " - 선형/비선형 모델(linear regression, logistic regression)\n",
    " - Neural Network\n",
    " - 의사결정나무(decision tree)\n",
    " - SVM(support vector machine)\n",
    "2. Instance_based Learning(사례 기반 학습)\n",
    " - 별도의 모델 생성없이 데이터베이스에 있는 자료들을 분류/예측에 사용한다\n",
    " - 각각의 관측치만을 이용하여 새로운 데이터에 대한 예측을 진행한다\n",
    " - 대표적인 알고리즘은 knn 알고리즘"
   ]
  },
  {
   "cell_type": "code",
   "execution_count": 1,
   "id": "88ec4d71",
   "metadata": {},
   "outputs": [],
   "source": [
    "import numpy as np\n",
    "import pandas as pd\n",
    "import matplotlib.pyplot as plt"
   ]
  },
  {
   "cell_type": "code",
   "execution_count": 3,
   "id": "857474ad",
   "metadata": {},
   "outputs": [
    {
     "data": {
      "image/png": "[encoded data removed]",
      "text/plain": [
       "<Figure size 432x288 with 1 Axes>"
      ]
     },
     "metadata": {
      "needs_background": "light"
     },
     "output_type": "display_data"
    }
   ],
   "source": [
    "# 데이터 특성을 파악하기 위한 산점도 그래프\n",
    "plt.scatter(perch_length, perch_weight)\n",
    "plt.xlabel('length')\n",
    "plt.ylabel('weight')\n",
    "plt.show()\n",
    "# 두 관측값에 관련성이 잇음을 확인 => 회귀분석 사용가능"
   ]
  },
  {
   "cell_type": "markdown",
   "id": "6e6e99d2",
   "metadata": {},
   "source": [
    "## 훈련 데이터셋과 테스트 데이터셋으로 분리"
   ]
  },
  {
   "cell_type": "code",
   "execution_count": 9,
   "id": "a6e4ac4a",
   "metadata": {},
   "outputs": [],
   "source": [
    "from sklearn.model_selection import train_test_split\n",
    "\n",
    "train_input, test_input, train_target, test_target = train_test_split(\n",
    "    perch_length, perch_weight, random_state = 42)\n",
    "# 책 98-99p\n",
    "# 이것만 보고도 길이(perch_length)를 학습 -> 무게(perch_weight)를 예측\n",
    "# feature=2차원 target=2차원이 돼야함"
   ]
  },
  {
   "cell_type": "code",
   "execution_count": 10,
   "id": "69069d92",
   "metadata": {},
   "outputs": [
    {
     "data": {
      "text/plain": [
       "(4,)"
      ]
     },
     "execution_count": 10,
     "metadata": {},
     "output_type": "execute_result"
    }
   ],
   "source": [
    "a = np.array([1, 2, 3, 4])\n",
    "a.shape\n",
    "# 1차원이 나옴. 2차원으로 만드려면"
   ]
  },
  {
   "cell_type": "code",
   "execution_count": 11,
   "id": "fcb59e5b",
   "metadata": {},
   "outputs": [
    {
     "data": {
      "text/plain": [
       "(2, 2)"
      ]
     },
     "execution_count": 11,
     "metadata": {},
     "output_type": "execute_result"
    }
   ],
   "source": [
    "a = a.reshape(2, 2)\n",
    "# reshape할때 데이터 갯수가 맞아야 됨\n",
    "a.shape\n",
    "# 2차원으로 바뀜"
   ]
  },
  {
   "cell_type": "code",
   "execution_count": 12,
   "id": "ec561bf6",
   "metadata": {},
   "outputs": [
    {
     "data": {
      "text/plain": [
       "(2, 2)"
      ]
     },
     "execution_count": 12,
     "metadata": {},
     "output_type": "execute_result"
    }
   ],
   "source": [
    "a = a.reshape(2, -1)\n",
    "# 이렇게 음수가 들어가면 무시하겟지(계산하기 힘들때)\n",
    "# 근데 행이 2개면 어차피 열도 2개가 되니까 2차원을 만들라는 뜻\n",
    "a.shape"
   ]
  },
  {
   "cell_type": "code",
   "execution_count": 13,
   "id": "7ddc17eb",
   "metadata": {},
   "outputs": [],
   "source": [
    "train_input = train_input.reshape(-1, 1)\n",
    "test_input = test_input.reshape(-1, 1)\n",
    "# 둘 다 2차원이어야 됨\n",
    "# 행열 모두 계산하기 힘들때 음수넣어주면 하나에 맞춰서 알아서 나옴"
   ]
  },
  {
   "cell_type": "code",
   "execution_count": 14,
   "id": "135b5991",
   "metadata": {},
   "outputs": [
    {
     "name": "stdout",
     "output_type": "stream",
     "text": [
      "(42, 1) (14, 1)\n"
     ]
    }
   ],
   "source": [
    "print(train_input.shape, test_input.shape)"
   ]
  },
  {
   "cell_type": "code",
   "execution_count": 15,
   "id": "2e51f04c",
   "metadata": {},
   "outputs": [
    {
     "data": {
      "text/plain": [
       "KNeighborsRegressor()"
      ]
     },
     "execution_count": 15,
     "metadata": {},
     "output_type": "execute_result"
    }
   ],
   "source": [
    "from sklearn.neighbors import KNeighborsRegressor\n",
    "knr = KNeighborsRegressor()\n",
    "\n",
    "knr.fit(train_input, train_target)"
   ]
  },
  {
   "cell_type": "markdown",
   "id": "9d763e89",
   "metadata": {},
   "source": [
    "### Machine Learning Package Version List"
   ]
  },
  {
   "cell_type": "code",
   "execution_count": 17,
   "id": "8b9cc7a1",
   "metadata": {},
   "outputs": [
    {
     "name": "stdout",
     "output_type": "stream",
     "text": [
      "Python version :  3.9.7 (default, Sep 16 2021, 16:59:28) [MSC v.1916 64 bit (AMD64)]\n"
     ]
    }
   ],
   "source": [
    "import sys\n",
    "print('Python version : ', sys.version)\n",
    "# python버전만 낮춰도 어떤 파라미터를 썼는지가 다 뜬다."
   ]
  },
  {
   "cell_type": "code",
   "execution_count": 18,
   "id": "bafbd8b0",
   "metadata": {},
   "outputs": [
    {
     "name": "stdout",
     "output_type": "stream",
     "text": [
      "pandas version :  1.3.4\n"
     ]
    }
   ],
   "source": [
    "print('pandas version : ', pd.__version__)"
   ]
  },
  {
   "cell_type": "code",
   "execution_count": 19,
   "id": "289f7f79",
   "metadata": {},
   "outputs": [
    {
     "name": "stdout",
     "output_type": "stream",
     "text": [
      "numpy version :  1.20.3\n"
     ]
    }
   ],
   "source": [
    "print('numpy version : ', np.__version__)"
   ]
  },
  {
   "cell_type": "code",
   "execution_count": 20,
   "id": "3ba65316",
   "metadata": {},
   "outputs": [
    {
     "name": "stdout",
     "output_type": "stream",
     "text": [
      "matplotlib version :  3.4.3\n"
     ]
    }
   ],
   "source": [
    "import matplotlib\n",
    "print('matplotlib version : ', matplotlib.__version__)"
   ]
  },
  {
   "cell_type": "code",
   "execution_count": 21,
   "id": "6b22eae0",
   "metadata": {},
   "outputs": [
    {
     "name": "stdout",
     "output_type": "stream",
     "text": [
      "scipy version :  1.7.1\n"
     ]
    }
   ],
   "source": [
    "import scipy as sp\n",
    "print('scipy version : ', sp.__version__)"
   ]
  },
  {
   "cell_type": "code",
   "execution_count": 22,
   "id": "ddbdef2d",
   "metadata": {},
   "outputs": [
    {
     "name": "stdout",
     "output_type": "stream",
     "text": [
      "IPython version :  7.29.0\n"
     ]
    }
   ],
   "source": [
    "import IPython\n",
    "print('IPython version : ', IPython.__version__)"
   ]
  },
  {
   "cell_type": "code",
   "execution_count": 23,
   "id": "d61ce783",
   "metadata": {},
   "outputs": [
    {
     "name": "stdout",
     "output_type": "stream",
     "text": [
      "scikit-learn version :  0.24.2\n"
     ]
    }
   ],
   "source": [
    "import sklearn\n",
    "print('scikit-learn version : ', sklearn.__version__)"
   ]
  },
  {
   "cell_type": "code",
   "execution_count": 24,
   "id": "f95786b0",
   "metadata": {},
   "outputs": [
    {
     "data": {
      "text/plain": [
       "0.992809406101064"
      ]
     },
     "execution_count": 24,
     "metadata": {},
     "output_type": "execute_result"
    }
   ],
   "source": [
    "# 정확도 : 정답을 맞춘 개수의 비율\n",
    "knr.score(test_input, test_target)\n",
    "# 임의대로 만든 숫자이기때문에 완전히 정확할수는 없지만 최대한\n",
    "# 나쁘지않음\n",
    "# 하지만 좀 더 실제값과 예측값의 차이가 얼마나 되는지 알고싶음"
   ]
  },
  {
   "cell_type": "code",
   "execution_count": 25,
   "id": "b4c5acb8",
   "metadata": {},
   "outputs": [
    {
     "data": {
      "text/plain": [
       "19.157142857142862"
      ]
     },
     "execution_count": 25,
     "metadata": {},
     "output_type": "execute_result"
    }
   ],
   "source": [
    "# 정확도보다 결정계수라는 표현을 쓴다\n",
    "# 결정계수(R2) = 1 - (타깃 - 예측)2의 합 / (타깃 - 평균)2의 합  \n",
    "from sklearn.metrics import mean_absolute_error\n",
    "# MAE : 타깃과 예측의 절대값 오차를 평균하여 반환\n",
    "# 테스트 데이터의 예측\n",
    "test_predict = knr.predict(test_input)\n",
    "mae = mean_absolute_error(test_target, test_predict)\n",
    "mae\n",
    "# 평균 19gram 정도의 차이가 난다\n",
    "# == 생선의 무게가 실제값과 19gram정도 차이난다"
   ]
  },
  {
   "cell_type": "code",
   "execution_count": 26,
   "id": "f7be2964",
   "metadata": {},
   "outputs": [
    {
     "data": {
      "text/plain": [
       "0.9698823289099254"
      ]
     },
     "execution_count": 26,
     "metadata": {},
     "output_type": "execute_result"
    }
   ],
   "source": [
    "# 훈련 데이터의 정확도도 측정\n",
    "knr.score(train_input, train_target)\n",
    "# 96% 나옴\n",
    "# 테스트 데이터는 99%인데 훈련 데이터는 96% == 왜 살짝 낮을까\n",
    "# 과소적합을 의심해봄"
   ]
  },
  {
   "cell_type": "markdown",
   "id": "6b544739",
   "metadata": {},
   "source": [
    "## 과대적합 vs 과소적합"
   ]
  },
  {
   "cell_type": "markdown",
   "id": "65a1661a",
   "metadata": {},
   "source": [
    "- 과대적합(Overfitting) : 훈련 세트(데이터)에서 점수가 굉장히 좋았는데 테스트 세트에서는 점수가 굉장히 나쁠 때\n",
    "- 과소적합(Underfitting) : 훈련 세트보다 테스트 세트의 점수가 높거나 두 점수가 너무 낮을 경우    \n",
    "- 일반적으로 과대적합/과소접합이 일어나는 이유 중 하나는 데이터셋의 크기가 매우 작기때문이다"
   ]
  },
  {
   "cell_type": "markdown",
   "id": "06ed35ae",
   "metadata": {},
   "source": [
    "- 테스트의 결정계수가 훈련의 결정계수보다 점수가 높아서 과소적합을 의심할 수 있다\n",
    "- 과소적합을 해결하는 일반적인 방법은 모델을 조금 더 복잡하게 만드는 것이다\n",
    "- k-최근접 이웃의 모델을 복잡하게 만드는 방법은 이웃수 k의 값을 낮추는 것이다\n",
    "- k 값을 따로 주지 않으면 기본값이 5"
   ]
  },
  {
   "cell_type": "code",
   "execution_count": 28,
   "id": "f8ac3db1",
   "metadata": {},
   "outputs": [
    {
     "data": {
      "text/plain": [
       "0.9804899950518966"
      ]
     },
     "execution_count": 28,
     "metadata": {},
     "output_type": "execute_result"
    }
   ],
   "source": [
    "# default = 5\n",
    "knr.n_neighbors = 3\n",
    "\n",
    "# 모델 훈련\n",
    "knr.fit(train_input, train_target)\n",
    "knr.score(train_input, train_target)\n",
    "# 훈련 점수 아까 96 이었는데 살짝 오른 98"
   ]
  },
  {
   "cell_type": "code",
   "execution_count": 29,
   "id": "a54382ee",
   "metadata": {},
   "outputs": [
    {
     "data": {
      "text/plain": [
       "0.9746459963987609"
      ]
     },
     "execution_count": 29,
     "metadata": {},
     "output_type": "execute_result"
    }
   ],
   "source": [
    "knr.score(test_input, test_target)\n",
    "# 테스트 점수는 살짝 낮아진 97\n",
    "# 과소적합은 해소됨\n",
    "# 두 점수 차이가 크지 않으므로 과대적합도 아님\n",
    "# 이 모델은 좋은 모델임"
   ]
  },
  {
   "cell_type": "code",
   "execution_count": 30,
   "id": "18b89514",
   "metadata": {},
   "outputs": [],
   "source": [
    "# knn은 모든 데이터를 갖고 시작하기 때문에 새로운 데이터는 예측이 떨어지는 단점이 있음\n"
   ]
  },
  {
   "cell_type": "code",
   "execution_count": null,
   "id": "7b79f4fd",
   "metadata": {},
   "outputs": [],
   "source": []
  },
  {
   "cell_type": "code",
   "execution_count": null,
   "id": "129356b0",
   "metadata": {},
   "outputs": [],
   "source": []
  },
  {
   "cell_type": "code",
   "execution_count": null,
   "id": "46162b63",
   "metadata": {},
   "outputs": [],
   "source": []
  },
  {
   "cell_type": "code",
   "execution_count": null,
   "id": "68a8669f",
   "metadata": {},
   "outputs": [],
   "source": []
  },
  {
   "cell_type": "code",
   "execution_count": null,
   "id": "6cb68b42",
   "metadata": {},
   "outputs": [],
   "source": []
  },
  {
   "cell_type": "code",
   "execution_count": null,
   "id": "178fe029",
   "metadata": {},
   "outputs": [],
   "source": []
  }
 ],
 "metadata": {
  "kernelspec": {
   "display_name": "Python 3 (ipykernel)",
   "language": "python",
   "name": "python3"
  },
  "language_info": {
   "codemirror_mode": {
    "name": "ipython",
    "version": 3
   },
   "file_extension": ".py",
   "mimetype": "text/x-python",
   "name": "python",
   "nbconvert_exporter": "python",
   "pygments_lexer": "ipython3",
   "version": "3.9.7"
  },
  "toc": {
   "base_numbering": 1,
   "nav_menu": {},
   "number_sections": true,
   "sideBar": true,
   "skip_h1_title": false,
   "title_cell": "Table of Contents",
   "title_sidebar": "Contents",
   "toc_cell": false,
   "toc_position": {},
   "toc_section_display": true,
   "toc_window_display": false
  }
 },
 "nbformat": 4,
 "nbformat_minor": 5
}
